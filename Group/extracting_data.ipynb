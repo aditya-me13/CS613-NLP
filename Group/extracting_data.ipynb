{
 "cells": [
  {
   "cell_type": "code",
   "execution_count": 1,
   "id": "98f1e4e8-99b2-4e72-ab3f-090848df9019",
   "metadata": {},
   "outputs": [],
   "source": [
    "!pip install selenium -q"
   ]
  },
  {
   "cell_type": "code",
   "execution_count": 2,
   "id": "ea71032a-70e3-4b47-8c55-ba56243f713c",
   "metadata": {},
   "outputs": [],
   "source": [
    "import pandas as pd\n",
    "from selenium import webdriver\n",
    "from selenium.webdriver.common.by import By\n",
    "import os"
   ]
  },
  {
   "cell_type": "code",
   "execution_count": 3,
   "id": "6a428e5e-ed3c-4723-bc95-a1f067a499f1",
   "metadata": {},
   "outputs": [],
   "source": [
    "chrome_options = webdriver.ChromeOptions()\n",
    "chrome_options.add_argument(\"--headless\")\n",
    "chrome_options.add_argument(\"--no-sandbox\")\n",
    "chrome_options.add_argument(\"--disable-dev-shm-usage\")\n",
    "driver = webdriver.Chrome(options=chrome_options)"
   ]
  },
  {
   "cell_type": "code",
   "execution_count": 4,
   "id": "378d03e3",
   "metadata": {},
   "outputs": [],
   "source": [
    "links = pd.read_csv(\"./opinion2.csv\")"
   ]
  },
  {
   "cell_type": "code",
   "execution_count": 5,
   "id": "f386a2ec",
   "metadata": {},
   "outputs": [
    {
     "data": {
      "text/html": [
       "<div>\n",
       "<style scoped>\n",
       "    .dataframe tbody tr th:only-of-type {\n",
       "        vertical-align: middle;\n",
       "    }\n",
       "\n",
       "    .dataframe tbody tr th {\n",
       "        vertical-align: top;\n",
       "    }\n",
       "\n",
       "    .dataframe thead th {\n",
       "        text-align: right;\n",
       "    }\n",
       "</style>\n",
       "<table border=\"1\" class=\"dataframe\">\n",
       "  <thead>\n",
       "    <tr style=\"text-align: right;\">\n",
       "      <th></th>\n",
       "      <th>url</th>\n",
       "    </tr>\n",
       "  </thead>\n",
       "  <tbody>\n",
       "    <tr>\n",
       "      <th>0</th>\n",
       "      <td>https://ekantipur.com/opinion/2024/09/10/futur...</td>\n",
       "    </tr>\n",
       "    <tr>\n",
       "      <th>1</th>\n",
       "      <td>https://ekantipur.com/author/author-11135</td>\n",
       "    </tr>\n",
       "    <tr>\n",
       "      <th>2</th>\n",
       "      <td>https://ekantipur.com/opinion/2024/09/10/in-fa...</td>\n",
       "    </tr>\n",
       "    <tr>\n",
       "      <th>3</th>\n",
       "      <td>https://ekantipur.com/author/author-10107</td>\n",
       "    </tr>\n",
       "    <tr>\n",
       "      <th>4</th>\n",
       "      <td>https://ekantipur.com/opinion/2024/09/10/how-t...</td>\n",
       "    </tr>\n",
       "    <tr>\n",
       "      <th>...</th>\n",
       "      <td>...</td>\n",
       "    </tr>\n",
       "    <tr>\n",
       "      <th>6896</th>\n",
       "      <td>https://ekantipur.com/author/author-8930</td>\n",
       "    </tr>\n",
       "    <tr>\n",
       "      <th>6897</th>\n",
       "      <td>https://ekantipur.com/opinion/2022/05/12/16523...</td>\n",
       "    </tr>\n",
       "    <tr>\n",
       "      <th>6898</th>\n",
       "      <td>https://ekantipur.com/author/author-9347</td>\n",
       "    </tr>\n",
       "    <tr>\n",
       "      <th>6899</th>\n",
       "      <td>https://ekantipur.com/opinion/2022/05/12/16523...</td>\n",
       "    </tr>\n",
       "    <tr>\n",
       "      <th>6900</th>\n",
       "      <td>https://ekantipur.com/author/author-11379</td>\n",
       "    </tr>\n",
       "  </tbody>\n",
       "</table>\n",
       "<p>6901 rows × 1 columns</p>\n",
       "</div>"
      ],
      "text/plain": [
       "                                                    url\n",
       "0     https://ekantipur.com/opinion/2024/09/10/futur...\n",
       "1             https://ekantipur.com/author/author-11135\n",
       "2     https://ekantipur.com/opinion/2024/09/10/in-fa...\n",
       "3             https://ekantipur.com/author/author-10107\n",
       "4     https://ekantipur.com/opinion/2024/09/10/how-t...\n",
       "...                                                 ...\n",
       "6896           https://ekantipur.com/author/author-8930\n",
       "6897  https://ekantipur.com/opinion/2022/05/12/16523...\n",
       "6898           https://ekantipur.com/author/author-9347\n",
       "6899  https://ekantipur.com/opinion/2022/05/12/16523...\n",
       "6900          https://ekantipur.com/author/author-11379\n",
       "\n",
       "[6901 rows x 1 columns]"
      ]
     },
     "execution_count": 5,
     "metadata": {},
     "output_type": "execute_result"
    }
   ],
   "source": [
    "links"
   ]
  },
  {
   "cell_type": "code",
   "execution_count": 4,
   "id": "0e78456b-f00f-4a5d-98b1-ca2eaf5a5045",
   "metadata": {},
   "outputs": [],
   "source": [
    "# link = \"https://ekantipur.com/news/2024/09/08/todays-weather-sometimes-light-sometimes-heavy-rain-42-44.html\""
   ]
  },
  {
   "cell_type": "code",
   "execution_count": 6,
   "id": "0a9bbc93",
   "metadata": {},
   "outputs": [
    {
     "ename": "WebDriverException",
     "evalue": "Message: disconnected: Unable to receive message from renderer\n  (failed to check if window was closed: disconnected: not connected to DevTools)\n  (Session info: chrome=128.0.6613.120)\nStacktrace:\n0   chromedriver                        0x0000000101161208 cxxbridge1$str$ptr + 1927396\n1   chromedriver                        0x000000010115966c cxxbridge1$str$ptr + 1895752\n2   chromedriver                        0x0000000100d54808 cxxbridge1$string$len + 89564\n3   chromedriver                        0x0000000100d3f9c4 cxxbridge1$string$len + 3992\n4   chromedriver                        0x0000000100d3f74c cxxbridge1$string$len + 3360\n5   chromedriver                        0x0000000100d3dae8 core::str::slice_error_fail::h6c488016ada29016 + 61084\n6   chromedriver                        0x0000000100d3e058 core::str::slice_error_fail::h6c488016ada29016 + 62476\n7   chromedriver                        0x0000000100d56cb8 cxxbridge1$string$len + 98956\n8   chromedriver                        0x0000000100dd2bb8 cxxbridge1$string$len + 606604\n9   chromedriver                        0x0000000100dd2228 cxxbridge1$string$len + 604156\n10  chromedriver                        0x0000000100d8d698 cxxbridge1$string$len + 322668\n11  chromedriver                        0x0000000100d8e310 cxxbridge1$string$len + 325860\n12  chromedriver                        0x0000000101127e78 cxxbridge1$str$ptr + 1693012\n13  chromedriver                        0x000000010112c77c cxxbridge1$str$ptr + 1711704\n14  chromedriver                        0x000000010110d3ec cxxbridge1$str$ptr + 1583816\n15  chromedriver                        0x000000010112d04c cxxbridge1$str$ptr + 1713960\n16  chromedriver                        0x00000001010fdfc8 cxxbridge1$str$ptr + 1521316\n17  chromedriver                        0x000000010114ab68 cxxbridge1$str$ptr + 1835588\n18  chromedriver                        0x000000010114ace4 cxxbridge1$str$ptr + 1835968\n19  chromedriver                        0x0000000101159308 cxxbridge1$str$ptr + 1894884\n20  libsystem_pthread.dylib             0x0000000195ab6f94 _pthread_start + 136\n21  libsystem_pthread.dylib             0x0000000195ab1d34 thread_start + 8\n",
     "output_type": "error",
     "traceback": [
      "\u001b[0;31m---------------------------------------------------------------------------\u001b[0m",
      "\u001b[0;31mWebDriverException\u001b[0m                        Traceback (most recent call last)",
      "\u001b[0;32m/var/folders/w8/kvwhbqqx4738lw45cv21l4zw0000gn/T/ipykernel_58575/1293965167.py\u001b[0m in \u001b[0;36m<module>\u001b[0;34m\u001b[0m\n\u001b[1;32m     32\u001b[0m     \u001b[0;31m# print(ii)\u001b[0m\u001b[0;34m\u001b[0m\u001b[0;34m\u001b[0m\u001b[0m\n\u001b[1;32m     33\u001b[0m     \u001b[0;32mif\u001b[0m \u001b[0;34m\"author\"\u001b[0m \u001b[0;32mnot\u001b[0m \u001b[0;32min\u001b[0m \u001b[0mlink\u001b[0m \u001b[0;32mand\u001b[0m \u001b[0mlink\u001b[0m \u001b[0;32mnot\u001b[0m \u001b[0;32min\u001b[0m \u001b[0mstore\u001b[0m\u001b[0;34m:\u001b[0m\u001b[0;34m\u001b[0m\u001b[0;34m\u001b[0m\u001b[0m\n\u001b[0;32m---> 34\u001b[0;31m         \u001b[0mdriver\u001b[0m\u001b[0;34m.\u001b[0m\u001b[0mget\u001b[0m\u001b[0;34m(\u001b[0m\u001b[0mlink\u001b[0m\u001b[0;34m)\u001b[0m\u001b[0;34m\u001b[0m\u001b[0;34m\u001b[0m\u001b[0m\n\u001b[0m\u001b[1;32m     35\u001b[0m         \u001b[0mstore\u001b[0m\u001b[0;34m.\u001b[0m\u001b[0mappend\u001b[0m\u001b[0;34m(\u001b[0m\u001b[0mlink\u001b[0m\u001b[0;34m)\u001b[0m\u001b[0;34m\u001b[0m\u001b[0;34m\u001b[0m\u001b[0m\n\u001b[1;32m     36\u001b[0m \u001b[0;34m\u001b[0m\u001b[0m\n",
      "\u001b[0;32m~/opt/anaconda3/lib/python3.9/site-packages/selenium/webdriver/remote/webdriver.py\u001b[0m in \u001b[0;36mget\u001b[0;34m(self, url)\u001b[0m\n\u001b[1;32m    361\u001b[0m     \u001b[0;32mdef\u001b[0m \u001b[0mget\u001b[0m\u001b[0;34m(\u001b[0m\u001b[0mself\u001b[0m\u001b[0;34m,\u001b[0m \u001b[0murl\u001b[0m\u001b[0;34m:\u001b[0m \u001b[0mstr\u001b[0m\u001b[0;34m)\u001b[0m \u001b[0;34m->\u001b[0m \u001b[0;32mNone\u001b[0m\u001b[0;34m:\u001b[0m\u001b[0;34m\u001b[0m\u001b[0;34m\u001b[0m\u001b[0m\n\u001b[1;32m    362\u001b[0m         \u001b[0;34m\"\"\"Loads a web page in the current browser session.\"\"\"\u001b[0m\u001b[0;34m\u001b[0m\u001b[0;34m\u001b[0m\u001b[0m\n\u001b[0;32m--> 363\u001b[0;31m         \u001b[0mself\u001b[0m\u001b[0;34m.\u001b[0m\u001b[0mexecute\u001b[0m\u001b[0;34m(\u001b[0m\u001b[0mCommand\u001b[0m\u001b[0;34m.\u001b[0m\u001b[0mGET\u001b[0m\u001b[0;34m,\u001b[0m \u001b[0;34m{\u001b[0m\u001b[0;34m\"url\"\u001b[0m\u001b[0;34m:\u001b[0m \u001b[0murl\u001b[0m\u001b[0;34m}\u001b[0m\u001b[0;34m)\u001b[0m\u001b[0;34m\u001b[0m\u001b[0;34m\u001b[0m\u001b[0m\n\u001b[0m\u001b[1;32m    364\u001b[0m \u001b[0;34m\u001b[0m\u001b[0m\n\u001b[1;32m    365\u001b[0m     \u001b[0;34m@\u001b[0m\u001b[0mproperty\u001b[0m\u001b[0;34m\u001b[0m\u001b[0;34m\u001b[0m\u001b[0m\n",
      "\u001b[0;32m~/opt/anaconda3/lib/python3.9/site-packages/selenium/webdriver/remote/webdriver.py\u001b[0m in \u001b[0;36mexecute\u001b[0;34m(self, driver_command, params)\u001b[0m\n\u001b[1;32m    352\u001b[0m         \u001b[0mresponse\u001b[0m \u001b[0;34m=\u001b[0m \u001b[0mself\u001b[0m\u001b[0;34m.\u001b[0m\u001b[0mcommand_executor\u001b[0m\u001b[0;34m.\u001b[0m\u001b[0mexecute\u001b[0m\u001b[0;34m(\u001b[0m\u001b[0mdriver_command\u001b[0m\u001b[0;34m,\u001b[0m \u001b[0mparams\u001b[0m\u001b[0;34m)\u001b[0m\u001b[0;34m\u001b[0m\u001b[0;34m\u001b[0m\u001b[0m\n\u001b[1;32m    353\u001b[0m         \u001b[0;32mif\u001b[0m \u001b[0mresponse\u001b[0m\u001b[0;34m:\u001b[0m\u001b[0;34m\u001b[0m\u001b[0;34m\u001b[0m\u001b[0m\n\u001b[0;32m--> 354\u001b[0;31m             \u001b[0mself\u001b[0m\u001b[0;34m.\u001b[0m\u001b[0merror_handler\u001b[0m\u001b[0;34m.\u001b[0m\u001b[0mcheck_response\u001b[0m\u001b[0;34m(\u001b[0m\u001b[0mresponse\u001b[0m\u001b[0;34m)\u001b[0m\u001b[0;34m\u001b[0m\u001b[0;34m\u001b[0m\u001b[0m\n\u001b[0m\u001b[1;32m    355\u001b[0m             \u001b[0mresponse\u001b[0m\u001b[0;34m[\u001b[0m\u001b[0;34m\"value\"\u001b[0m\u001b[0;34m]\u001b[0m \u001b[0;34m=\u001b[0m \u001b[0mself\u001b[0m\u001b[0;34m.\u001b[0m\u001b[0m_unwrap_value\u001b[0m\u001b[0;34m(\u001b[0m\u001b[0mresponse\u001b[0m\u001b[0;34m.\u001b[0m\u001b[0mget\u001b[0m\u001b[0;34m(\u001b[0m\u001b[0;34m\"value\"\u001b[0m\u001b[0;34m,\u001b[0m \u001b[0;32mNone\u001b[0m\u001b[0;34m)\u001b[0m\u001b[0;34m)\u001b[0m\u001b[0;34m\u001b[0m\u001b[0;34m\u001b[0m\u001b[0m\n\u001b[1;32m    356\u001b[0m             \u001b[0;32mreturn\u001b[0m \u001b[0mresponse\u001b[0m\u001b[0;34m\u001b[0m\u001b[0;34m\u001b[0m\u001b[0m\n",
      "\u001b[0;32m~/opt/anaconda3/lib/python3.9/site-packages/selenium/webdriver/remote/errorhandler.py\u001b[0m in \u001b[0;36mcheck_response\u001b[0;34m(self, response)\u001b[0m\n\u001b[1;32m    227\u001b[0m                 \u001b[0malert_text\u001b[0m \u001b[0;34m=\u001b[0m \u001b[0mvalue\u001b[0m\u001b[0;34m[\u001b[0m\u001b[0;34m\"alert\"\u001b[0m\u001b[0;34m]\u001b[0m\u001b[0;34m.\u001b[0m\u001b[0mget\u001b[0m\u001b[0;34m(\u001b[0m\u001b[0;34m\"text\"\u001b[0m\u001b[0;34m)\u001b[0m\u001b[0;34m\u001b[0m\u001b[0;34m\u001b[0m\u001b[0m\n\u001b[1;32m    228\u001b[0m             \u001b[0;32mraise\u001b[0m \u001b[0mexception_class\u001b[0m\u001b[0;34m(\u001b[0m\u001b[0mmessage\u001b[0m\u001b[0;34m,\u001b[0m \u001b[0mscreen\u001b[0m\u001b[0;34m,\u001b[0m \u001b[0mstacktrace\u001b[0m\u001b[0;34m,\u001b[0m \u001b[0malert_text\u001b[0m\u001b[0;34m)\u001b[0m  \u001b[0;31m# type: ignore[call-arg]  # mypy is not smart enough here\u001b[0m\u001b[0;34m\u001b[0m\u001b[0;34m\u001b[0m\u001b[0m\n\u001b[0;32m--> 229\u001b[0;31m         \u001b[0;32mraise\u001b[0m \u001b[0mexception_class\u001b[0m\u001b[0;34m(\u001b[0m\u001b[0mmessage\u001b[0m\u001b[0;34m,\u001b[0m \u001b[0mscreen\u001b[0m\u001b[0;34m,\u001b[0m \u001b[0mstacktrace\u001b[0m\u001b[0;34m)\u001b[0m\u001b[0;34m\u001b[0m\u001b[0;34m\u001b[0m\u001b[0m\n\u001b[0m",
      "\u001b[0;31mWebDriverException\u001b[0m: Message: disconnected: Unable to receive message from renderer\n  (failed to check if window was closed: disconnected: not connected to DevTools)\n  (Session info: chrome=128.0.6613.120)\nStacktrace:\n0   chromedriver                        0x0000000101161208 cxxbridge1$str$ptr + 1927396\n1   chromedriver                        0x000000010115966c cxxbridge1$str$ptr + 1895752\n2   chromedriver                        0x0000000100d54808 cxxbridge1$string$len + 89564\n3   chromedriver                        0x0000000100d3f9c4 cxxbridge1$string$len + 3992\n4   chromedriver                        0x0000000100d3f74c cxxbridge1$string$len + 3360\n5   chromedriver                        0x0000000100d3dae8 core::str::slice_error_fail::h6c488016ada29016 + 61084\n6   chromedriver                        0x0000000100d3e058 core::str::slice_error_fail::h6c488016ada29016 + 62476\n7   chromedriver                        0x0000000100d56cb8 cxxbridge1$string$len + 98956\n8   chromedriver                        0x0000000100dd2bb8 cxxbridge1$string$len + 606604\n9   chromedriver                        0x0000000100dd2228 cxxbridge1$string$len + 604156\n10  chromedriver                        0x0000000100d8d698 cxxbridge1$string$len + 322668\n11  chromedriver                        0x0000000100d8e310 cxxbridge1$string$len + 325860\n12  chromedriver                        0x0000000101127e78 cxxbridge1$str$ptr + 1693012\n13  chromedriver                        0x000000010112c77c cxxbridge1$str$ptr + 1711704\n14  chromedriver                        0x000000010110d3ec cxxbridge1$str$ptr + 1583816\n15  chromedriver                        0x000000010112d04c cxxbridge1$str$ptr + 1713960\n16  chromedriver                        0x00000001010fdfc8 cxxbridge1$str$ptr + 1521316\n17  chromedriver                        0x000000010114ab68 cxxbridge1$str$ptr + 1835588\n18  chromedriver                        0x000000010114ace4 cxxbridge1$str$ptr + 1835968\n19  chromedriver                        0x0000000101159308 cxxbridge1$str$ptr + 1894884\n20  libsystem_pthread.dylib             0x0000000195ab6f94 _pthread_start + 136\n21  libsystem_pthread.dylib             0x0000000195ab1d34 thread_start + 8\n"
     ]
    }
   ],
   "source": [
    "import os\n",
    "from selenium.webdriver.common.by import By\n",
    "from selenium.webdriver.remote.webelement import WebElement\n",
    "\n",
    "store = []\n",
    "\n",
    "def scrape_p_tags(element: WebElement, data_str: str) -> str:\n",
    "    # Find all <p> tags directly within the current element\n",
    "    p_tags = element.find_elements(By.TAG_NAME, 'p')\n",
    "    \n",
    "    for p_tag in p_tags:\n",
    "        if(p_tag.get_attribute(\"innerText\") not in data_str):\n",
    "            data_str += p_tag.get_attribute(\"innerText\") + \" \"\n",
    "    \n",
    "    # Find all nested elements within the current element\n",
    "    nested_elements = element.find_elements(By.XPATH, \".//*\")\n",
    "    \n",
    "    for nested_element in nested_elements:\n",
    "        if nested_element != element:  # Avoid re-processing the current element\n",
    "            data_str = scrape_p_tags(nested_element, data_str)\n",
    "    \n",
    "    return data_str\n",
    "\n",
    "# Create directory if it doesn't exist\n",
    "path = \"opinions4\"\n",
    "if not os.path.exists(path):\n",
    "    os.mkdir(path)\n",
    "\n",
    "ii = 1\n",
    "\n",
    "for _, link in enumerate(links[\"url\"]):\n",
    "    # print(ii)\n",
    "    if \"author\" not in link and link not in store:\n",
    "        driver.get(link)\n",
    "        store.append(link)\n",
    "\n",
    "        content = driver.find_elements(By.CLASS_NAME, 'col-xs-7.mainContentX')\n",
    "        \n",
    "        # Process article header\n",
    "        art = content[0].find_elements(By.CLASS_NAME, 'article-header')\n",
    "        if len(art) < 1:\n",
    "            print(f\"Some problem with link: {link}\")\n",
    "            # continue\n",
    "\n",
    "        header = art[0].find_elements(By.TAG_NAME, 'h1')\n",
    "        header_text = \"\"\n",
    "        if len(header) > 0:\n",
    "            header_text = header[0].get_attribute(\"innerText\")\n",
    "        \n",
    "        # Process sub-headlines\n",
    "        sub_head = content[0].find_elements(By.CLASS_NAME, \"sub-headline\")\n",
    "        sub_head_str = \"\"\n",
    "        for i in range(len(sub_head)):\n",
    "            p_tag = sub_head[i].find_elements(By.TAG_NAME, 'p')\n",
    "            for j in range(len(p_tag)):\n",
    "                sub_head_str = sub_head_str + p_tag[j].get_attribute(\"innerText\")+\" \"\n",
    "        \n",
    "        # Process description blocks\n",
    "        data1 = content[0].find_elements(By.CLASS_NAME, \"description.current-news-block.portrait\")\n",
    "        data_str = \"\"\n",
    "        for element in data1:\n",
    "            data_str = scrape_p_tags(element, data_str)\n",
    "        \n",
    "        # Save to file\n",
    "        file_name = str(ii) + \".txt\"\n",
    "        file_path = os.path.join(path, file_name)\n",
    "        with open(file_path, 'w') as f:\n",
    "            f.write(header_text)\n",
    "            f.write(\"\\n\\n\")\n",
    "            f.write(sub_head_str)\n",
    "            f.write(\"\\n\\n\")\n",
    "            f.write(data_str)\n",
    "        \n",
    "    ii += 1\n"
   ]
  },
  {
   "cell_type": "code",
   "execution_count": 5,
   "id": "298be59a-3107-46a3-9e03-cfcb44b54edf",
   "metadata": {},
   "outputs": [],
   "source": [
    "driver.get(link)"
   ]
  },
  {
   "cell_type": "markdown",
   "id": "6b09e615-0499-415f-a87d-81d74a057b33",
   "metadata": {},
   "source": [
    "##### Getting specific article tag"
   ]
  },
  {
   "cell_type": "code",
   "execution_count": 9,
   "id": "a42f944a-9b77-49ed-a142-c4a1c66c4f66",
   "metadata": {},
   "outputs": [],
   "source": [
    "art = driver.find_elements(By.CLASS_NAME, 'article-header')\n",
    "if len(art) < 1:\n",
    "    print(f\"Some problem with link: {link}\")"
   ]
  },
  {
   "cell_type": "code",
   "execution_count": 10,
   "id": "e05fbfa6",
   "metadata": {},
   "outputs": [
    {
     "data": {
      "text/plain": [
       "[<selenium.webdriver.remote.webelement.WebElement (session=\"c44a346769814799ae13726e90746dac\", element=\"f.1D3E6D6653E6020DFF11833A1A3FDE05.d.605479835DB6EF9B9DC5F8D71DE7A72B.e.854\")>]"
      ]
     },
     "execution_count": 10,
     "metadata": {},
     "output_type": "execute_result"
    }
   ],
   "source": [
    "art"
   ]
  },
  {
   "cell_type": "markdown",
   "id": "c2e6f4d1-d60c-4327-bcc8-b97410228255",
   "metadata": {},
   "source": [
    "##### Extracting Headline in arcticle tag"
   ]
  },
  {
   "cell_type": "code",
   "execution_count": 6,
   "id": "90c66404-13ff-4539-be0a-b2abee2a2165",
   "metadata": {},
   "outputs": [],
   "source": [
    "# headline = art[0].find_elements(By.CSS_SELECTOR, '[data-component=\"headline-block\"]')\n",
    "# if len(headline) != 1:\n",
    "#     print(f\"Some problem with link: {link}\")"
   ]
  },
  {
   "cell_type": "code",
   "execution_count": 18,
   "id": "62338712-f678-4073-993e-69cb68ccde1d",
   "metadata": {},
   "outputs": [],
   "source": [
    "header = art[0].find_elements(By.TAG_NAME, 'h1')\n",
    "if len(header) != 1:\n",
    "    print(f\"Some problem with link: {link}\")\n",
    "\n",
    "header_text = header[0].get_attribute(\"innerText\")"
   ]
  },
  {
   "cell_type": "code",
   "execution_count": 19,
   "id": "85f5a7b2",
   "metadata": {},
   "outputs": [
    {
     "data": {
      "text/plain": [
       "'आजको मौसम : कतै हल्का, कतै भारी वर्षा हुने'"
      ]
     },
     "execution_count": 19,
     "metadata": {},
     "output_type": "execute_result"
    }
   ],
   "source": [
    "header_text"
   ]
  },
  {
   "cell_type": "markdown",
   "id": "5cd4ff8f-7ace-4bd4-b5ee-5cd5dc52c88d",
   "metadata": {},
   "source": [
    "##### Extracting context"
   ]
  },
  {
   "cell_type": "code",
   "execution_count": 24,
   "id": "3b27f4ef-2d26-4e6a-aea7-1e95438ddc1c",
   "metadata": {},
   "outputs": [],
   "source": [
    "data1 = driver.find_elements(By.CLASS_NAME, \"description.current-news-block.portrait\")\n",
    "if len(data1) < 1:\n",
    "    print(f\"Some problem with link: {link}\")"
   ]
  },
  {
   "cell_type": "code",
   "execution_count": 25,
   "id": "704ace87",
   "metadata": {},
   "outputs": [
    {
     "data": {
      "text/plain": [
       "[<selenium.webdriver.remote.webelement.WebElement (session=\"c44a346769814799ae13726e90746dac\", element=\"f.1D3E6D6653E6020DFF11833A1A3FDE05.d.605479835DB6EF9B9DC5F8D71DE7A72B.e.18\")>]"
      ]
     },
     "execution_count": 25,
     "metadata": {},
     "output_type": "execute_result"
    }
   ],
   "source": [
    "data1"
   ]
  },
  {
   "cell_type": "code",
   "execution_count": 38,
   "id": "988fa12a-482e-4f3f-8496-c3916d9f76d5",
   "metadata": {},
   "outputs": [],
   "source": [
    "data_str = \"\"\n",
    "for i in range(len(data1)):\n",
    "    p_tag = data1[i].find_elements(By.TAG_NAME, 'p')\n",
    "    for j in range(len(p_tag)):\n",
    "        data_str = data_str + p_tag[j].get_attribute(\"innerText\") + \"\\n\""
   ]
  },
  {
   "cell_type": "code",
   "execution_count": 39,
   "id": "edc200ad",
   "metadata": {},
   "outputs": [
    {
     "data": {
      "text/plain": [
       "'काठमाडौँ — हाल देशभर मनसुनी वायुको प्रभाव रहेको तथा यसको न्यूनचापीय रेखा सरदर स्थानको दक्षिणतिर अवस्थित रहेको जल तथा मौसम विज्ञान विभागले जनाएको छ\\xa0।\\n\\nविभागका अनुसार, देशभर आंशिकदेखि साधारणतया बदली भई गण्डकी र कर्णाली प्रदेशका एक–दुई स्थानमा हल्का वर्षा भइरहेको छ\\xa0। आज दिउँसो देशभर आंशिकदेखि साधारणतया बदली रहनेछ\\xa0।\\nकोशी, मधेश, वाग्मती, गण्डकी, लुम्बिनी, कर्णाली र सुदूरपश्चिम प्रदेशका केही स्थानमा मेघगर्जन र चट्याङसहित हल्कादेखि मध्यम वर्षाको सम्भावना छ\\xa0। कोशी, वाग्मती र गण्डकी प्रदेशका एक–दुई स्थानमा भारी वर्षाको पनि सम्भावना छ\\xa0।\\nयसैगरी, आज राति देशभर आंशिकदेखि साधारणतया बदली रहने छभने कोशी प्रदेशको केही स्थान तथा बाँकी प्रदेशका पहाडी भागका केही स्थान र लुम्बिनी प्रदेशको तराई भू–भागका एक–दुई स्थानमा हल्कादेखि मध्यम वर्षाको सम्भावना छ\\xa0।\\nलुम्बिनी, मधेश, वाग्मती, गण्डकी, कर्णाली र सुदूरपश्चिम प्रदेशका केही स्थानमा मेघगर्जन एवं चट्याङसहित हल्कादेखि मध्यम वर्षाको सम्भावना छ\\xa0। कोशी, वाग्मती र गण्डकी प्रदेशका एक–दुई स्थानमा भारी वर्षाको सम्भावना रहेको जनाउँदै विभागले ती क्षेत्रका सर्वसाधारणलाई सतर्क रहन अनुरोध गरेको छ\\xa0।\\n'"
      ]
     },
     "execution_count": 39,
     "metadata": {},
     "output_type": "execute_result"
    }
   ],
   "source": [
    "data_str"
   ]
  },
  {
   "cell_type": "code",
   "execution_count": 28,
   "id": "540c4ce6-9275-4d65-892d-0fa5f6234428",
   "metadata": {},
   "outputs": [],
   "source": [
    "data_str = data_str.strip()"
   ]
  },
  {
   "cell_type": "markdown",
   "id": "1b9856ae-6a12-4f65-ae82-5cbd2acb25f0",
   "metadata": {},
   "source": [
    "##### Closing driver"
   ]
  },
  {
   "cell_type": "code",
   "execution_count": 20,
   "id": "2da1f9b2-afc8-4945-a63d-b8b98928c580",
   "metadata": {},
   "outputs": [],
   "source": [
    "driver.close()"
   ]
  },
  {
   "cell_type": "markdown",
   "id": "02735298-32df-4f5f-aa60-586c7bc19153",
   "metadata": {},
   "source": [
    "##### Saving data"
   ]
  },
  {
   "cell_type": "code",
   "execution_count": 40,
   "id": "b0bab84d-2fa0-40ff-9784-8db48c96be15",
   "metadata": {},
   "outputs": [],
   "source": [
    "df = pd.DataFrame(columns=[\"url\", \"heading\", \"content\"])"
   ]
  },
  {
   "cell_type": "code",
   "execution_count": 41,
   "id": "7f19b52b-6090-41b3-9e89-9cb047c28ea4",
   "metadata": {},
   "outputs": [],
   "source": [
    "df.loc[len(df)] = [link, header_text, data_str]"
   ]
  },
  {
   "cell_type": "code",
   "execution_count": 42,
   "id": "ebd2c0c0-e5db-4285-b0f2-695e3f0dfadc",
   "metadata": {},
   "outputs": [
    {
     "data": {
      "text/html": [
       "<div>\n",
       "<style scoped>\n",
       "    .dataframe tbody tr th:only-of-type {\n",
       "        vertical-align: middle;\n",
       "    }\n",
       "\n",
       "    .dataframe tbody tr th {\n",
       "        vertical-align: top;\n",
       "    }\n",
       "\n",
       "    .dataframe thead th {\n",
       "        text-align: right;\n",
       "    }\n",
       "</style>\n",
       "<table border=\"1\" class=\"dataframe\">\n",
       "  <thead>\n",
       "    <tr style=\"text-align: right;\">\n",
       "      <th></th>\n",
       "      <th>url</th>\n",
       "      <th>heading</th>\n",
       "      <th>content</th>\n",
       "    </tr>\n",
       "  </thead>\n",
       "  <tbody>\n",
       "    <tr>\n",
       "      <th>0</th>\n",
       "      <td>https://ekantipur.com/news/2024/09/08/todays-w...</td>\n",
       "      <td>आजको मौसम : कतै हल्का, कतै भारी वर्षा हुने</td>\n",
       "      <td>काठमाडौँ — हाल देशभर मनसुनी वायुको प्रभाव रहेक...</td>\n",
       "    </tr>\n",
       "  </tbody>\n",
       "</table>\n",
       "</div>"
      ],
      "text/plain": [
       "                                                 url  \\\n",
       "0  https://ekantipur.com/news/2024/09/08/todays-w...   \n",
       "\n",
       "                                      heading  \\\n",
       "0  आजको मौसम : कतै हल्का, कतै भारी वर्षा हुने   \n",
       "\n",
       "                                             content  \n",
       "0  काठमाडौँ — हाल देशभर मनसुनी वायुको प्रभाव रहेक...  "
      ]
     },
     "execution_count": 42,
     "metadata": {},
     "output_type": "execute_result"
    }
   ],
   "source": [
    "df"
   ]
  },
  {
   "cell_type": "code",
   "execution_count": 43,
   "id": "9114a014-b319-4cb7-ab78-7efc2a48891f",
   "metadata": {},
   "outputs": [],
   "source": [
    "df.to_csv(\"dummy_data.csv\", index=False)"
   ]
  },
  {
   "cell_type": "code",
   "execution_count": null,
   "id": "7b14c5bd-b13d-4907-b0a0-00fb24752df5",
   "metadata": {},
   "outputs": [],
   "source": []
  },
  {
   "cell_type": "code",
   "execution_count": null,
   "id": "e18c9b92-618b-41a0-a151-5d23565a565d",
   "metadata": {},
   "outputs": [],
   "source": []
  }
 ],
 "metadata": {
  "kernelspec": {
   "display_name": "Python 3 (ipykernel)",
   "language": "python",
   "name": "python3"
  },
  "language_info": {
   "codemirror_mode": {
    "name": "ipython",
    "version": 3
   },
   "file_extension": ".py",
   "mimetype": "text/x-python",
   "name": "python",
   "nbconvert_exporter": "python",
   "pygments_lexer": "ipython3",
   "version": "3.9.13"
  }
 },
 "nbformat": 4,
 "nbformat_minor": 5
}
