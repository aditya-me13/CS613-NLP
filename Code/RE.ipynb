{
 "cells": [
  {
   "cell_type": "markdown",
   "metadata": {},
   "source": [
    "## Regular Expression\n"
   ]
  },
  {
   "cell_type": "markdown",
   "metadata": {},
   "source": [
    "```^``` Start of line\n",
    "\n",
    "```$``` End of line\n",
    "\n",
    "```.``` Matches a single character\n",
    "\n",
    "```[...]``` Matches any single character from the ones given in bracket\n",
    "\n",
    "```[^...]``` Matches any single character not given in brackets\n",
    "\n",
    "```*``` matches zero or more of the preceding character\n",
    "\n",
    "```+``` matches one or more of the preceding character\n",
    "\n",
    "```?``` matches zero or one of the preceding character\n",
    "\n",
    "```{n}``` matches exactly n of the preceding character\n",
    "\n",
    "```{n,}``` matches n or more of the preceding character\n",
    "\n",
    "```{n,m}``` matches at least n and at most m of the preceding character\n",
    "\n",
    "```|``` Matches either the expression before or the expression after the |\n",
    "\n",
    "```( )``` Groups regular expressions and returns matched text\n",
    "\n",
    "```\\``` Escapes special characters"
   ]
  },
  {
   "cell_type": "code",
   "execution_count": 21,
   "metadata": {},
   "outputs": [
    {
     "name": "stdout",
     "output_type": "stream",
     "text": [
      "matchObj.group() :  Cats are smarter than dogs\n",
      "matchObj.group(1) :  Cats\n",
      "matchObj.group(2) :  smarter\n",
      "\n",
      "matchObj.group() :  Cats are smarter than dogs\n",
      "matchObj.group(1) :  Cats\n",
      "matchObj.group(2) :  smarter than\n"
     ]
    }
   ],
   "source": [
    "import re\n",
    "\n",
    "line = \"Cats are smarter than dogs\"\n",
    "matchObj1 = re.match( r'(.*) are (.*?) .*', line, re.M|re.I)\n",
    "# .*? means only one word match followed by \" \"\n",
    "if matchObj1:\n",
    "    print(\"matchObj.group() : \", matchObj1.group())\n",
    "    print(\"matchObj.group(1) : \", matchObj1.group(1))\n",
    "    print(\"matchObj.group(2) : \", matchObj1.group(2))\n",
    "else:\n",
    "    print(\"No match!!\")\n",
    "\n",
    "print()\n",
    "matchObj2 = re.match( r'(.*) are (.*) .*', line, re.M|re.I)\n",
    "# .* means any number of words match followed by \" \"\n",
    "if matchObj2:\n",
    "    print(\"matchObj.group() : \", matchObj2.group())\n",
    "    print(\"matchObj.group(1) : \", matchObj2.group(1))\n",
    "    print(\"matchObj.group(2) : \", matchObj2.group(2))\n",
    "else:\n",
    "    print(\"No match!!\")"
   ]
  },
  {
   "cell_type": "code",
   "execution_count": 17,
   "metadata": {},
   "outputs": [
    {
     "name": "stdout",
     "output_type": "stream",
     "text": [
      "matchObj.group() :  Cats are smarter than dogs\n",
      "matchObj.group(1) :  Cats\n",
      "matchObj.group(2) :  smarter\n",
      "\n",
      "matchObj.group() :  Cats are smarter than dogs\n",
      "matchObj.group(1) :  Cats\n",
      "matchObj.group(2) :  smarter than\n"
     ]
    }
   ],
   "source": [
    "line = \"Cats are smarter than dogs\"\n",
    "matchObj1 = re.match( r'(.*) are (.*?) .*', line, re.M|re.I)\n",
    "# .*? means only one word match followed by \" \"\n",
    "if matchObj1:\n",
    "    print(\"matchObj.group() : \", matchObj1.group())\n",
    "    print(\"matchObj.group(1) : \", matchObj1.group(1))\n",
    "    print(\"matchObj.group(2) : \", matchObj1.group(2))\n",
    "else:\n",
    "    print(\"No match!!\")\n",
    "\n",
    "print()\n",
    "matchObj2 = re.match( r'(.*) are (.*) .*', line, re.M|re.I)\n",
    "# .* means any number of words match followed by \" \"\n",
    "if matchObj2:\n",
    "    print(\"matchObj.group() : \", matchObj2.group())\n",
    "    print(\"matchObj.group(1) : \", matchObj2.group(1))\n",
    "    print(\"matchObj.group(2) : \", matchObj2.group(2))\n",
    "else:\n",
    "    print(\"No match!!\")"
   ]
  },
  {
   "cell_type": "code",
   "execution_count": 19,
   "metadata": {},
   "outputs": [
    {
     "name": "stdout",
     "output_type": "stream",
     "text": [
      "2004-3823-234 \n",
      "20043823234\n"
     ]
    }
   ],
   "source": [
    "phone = '2004-3823-234 # this is my phone number'\n",
    "\n",
    "num = re.sub(r'#.*$', \"\", phone)\n",
    "print(num)\n",
    "\n",
    "num = re.sub(r'\\D', \"\", phone)\n",
    "print(num)"
   ]
  },
  {
   "cell_type": "markdown",
   "metadata": {},
   "source": [
    "![Image description](Images/Flags.png)\n",
    "![Image description](Images/Classes.png)\n",
    "![Image description](Images/Special.png)"
   ]
  }
 ],
 "metadata": {
  "kernelspec": {
   "display_name": "base",
   "language": "python",
   "name": "python3"
  },
  "language_info": {
   "codemirror_mode": {
    "name": "ipython",
    "version": 3
   },
   "file_extension": ".py",
   "mimetype": "text/x-python",
   "name": "python",
   "nbconvert_exporter": "python",
   "pygments_lexer": "ipython3",
   "version": "3.9.13"
  }
 },
 "nbformat": 4,
 "nbformat_minor": 2
}
