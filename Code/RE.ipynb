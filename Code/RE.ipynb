{
 "cells": [
  {
   "cell_type": "markdown",
   "metadata": {},
   "source": [
    "## Regular Expression\n"
   ]
  },
  {
   "cell_type": "markdown",
   "metadata": {},
   "source": [
    "```^``` Start of line\n",
    "\n",
    "```$``` End of line\n",
    "\n",
    "```.``` Matches a single character\n",
    "\n",
    "```[...]``` Matches any single character from the ones given in bracket\n",
    "\n",
    "```[^...]``` Matches any single character not given in brackets\n",
    "\n",
    "```*``` matches zero or more of the preceding character"
   ]
  },
  {
   "cell_type": "code",
   "execution_count": 11,
   "metadata": {},
   "outputs": [
    {
     "name": "stdout",
     "output_type": "stream",
     "text": [
      "matchObj.group() :  Cats are smarter than dogs\n",
      "matchObj.group(1) :  Cats\n",
      "matchObj.group(2) :  smarter\n",
      "\n",
      "matchObj.group() :  Cats are smarter than dogs\n",
      "matchObj.group(1) :  Cats\n",
      "matchObj.group(2) :  smarter than\n"
     ]
    }
   ],
   "source": [
    "import re\n",
    "\n",
    "line = \"Cats are smarter than dogs\"\n",
    "matchObj1 = re.match( r'(.*) are (.*?) .*', line, re.M|re.I)\n",
    "# .*? means only one word match followed by \" \"\n",
    "if matchObj1:\n",
    "    print(\"matchObj.group() : \", matchObj1.group())\n",
    "    print(\"matchObj.group(1) : \", matchObj1.group(1))\n",
    "    print(\"matchObj.group(2) : \", matchObj1.group(2))\n",
    "else:\n",
    "    print(\"No match!!\")\n",
    "\n",
    "print()\n",
    "matchObj2 = re.match( r'(.*) are (.*) .*', line, re.M|re.I)\n",
    "# .* means any number of words match followed by \" \"\n",
    "if matchObj2:\n",
    "    print(\"matchObj.group() : \", matchObj2.group())\n",
    "    print(\"matchObj.group(1) : \", matchObj2.group(1))\n",
    "    print(\"matchObj.group(2) : \", matchObj2.group(2))\n",
    "else:\n",
    "    print(\"No match!!\")"
   ]
  },
  {
   "cell_type": "code",
   "execution_count": 14,
   "metadata": {},
   "outputs": [
    {
     "name": "stdout",
     "output_type": "stream",
     "text": [
      "matchObj.group() :  Cats are smarter than dogs are dogs\n",
      "matchObj.group(1) :  Cats\n",
      "matchObj.group(2) :  smarter\n"
     ]
    },
    {
     "ename": "IndexError",
     "evalue": "no such group",
     "output_type": "error",
     "traceback": [
      "\u001b[0;31m---------------------------------------------------------------------------\u001b[0m",
      "\u001b[0;31mIndexError\u001b[0m                                Traceback (most recent call last)",
      "\u001b[0;32m/var/folders/w8/kvwhbqqx4738lw45cv21l4zw0000gn/T/ipykernel_13192/4238460421.py\u001b[0m in \u001b[0;36m<module>\u001b[0;34m\u001b[0m\n\u001b[1;32m      6\u001b[0m     \u001b[0mprint\u001b[0m\u001b[0;34m(\u001b[0m\u001b[0;34m\"matchObj.group(1) : \"\u001b[0m\u001b[0;34m,\u001b[0m \u001b[0mmatchObj1\u001b[0m\u001b[0;34m.\u001b[0m\u001b[0mgroup\u001b[0m\u001b[0;34m(\u001b[0m\u001b[0;36m1\u001b[0m\u001b[0;34m)\u001b[0m\u001b[0;34m)\u001b[0m\u001b[0;34m\u001b[0m\u001b[0;34m\u001b[0m\u001b[0m\n\u001b[1;32m      7\u001b[0m     \u001b[0mprint\u001b[0m\u001b[0;34m(\u001b[0m\u001b[0;34m\"matchObj.group(2) : \"\u001b[0m\u001b[0;34m,\u001b[0m \u001b[0mmatchObj1\u001b[0m\u001b[0;34m.\u001b[0m\u001b[0mgroup\u001b[0m\u001b[0;34m(\u001b[0m\u001b[0;36m2\u001b[0m\u001b[0;34m)\u001b[0m\u001b[0;34m)\u001b[0m\u001b[0;34m\u001b[0m\u001b[0;34m\u001b[0m\u001b[0m\n\u001b[0;32m----> 8\u001b[0;31m     \u001b[0mprint\u001b[0m\u001b[0;34m(\u001b[0m\u001b[0;34m\"matchObj.group(3) : \"\u001b[0m\u001b[0;34m,\u001b[0m \u001b[0mmatchObj1\u001b[0m\u001b[0;34m.\u001b[0m\u001b[0mgroup\u001b[0m\u001b[0;34m(\u001b[0m\u001b[0;36m3\u001b[0m\u001b[0;34m)\u001b[0m\u001b[0;34m)\u001b[0m\u001b[0;34m\u001b[0m\u001b[0;34m\u001b[0m\u001b[0m\n\u001b[0m\u001b[1;32m      9\u001b[0m \u001b[0;32melse\u001b[0m\u001b[0;34m:\u001b[0m\u001b[0;34m\u001b[0m\u001b[0;34m\u001b[0m\u001b[0m\n\u001b[1;32m     10\u001b[0m     \u001b[0mprint\u001b[0m\u001b[0;34m(\u001b[0m\u001b[0;34m\"No match!!\"\u001b[0m\u001b[0;34m)\u001b[0m\u001b[0;34m\u001b[0m\u001b[0;34m\u001b[0m\u001b[0m\n",
      "\u001b[0;31mIndexError\u001b[0m: no such group"
     ]
    }
   ],
   "source": [
    "line = \"Cats are smarter than dogs are dogs\"\n",
    "matchObj1 = re.match( r'(.*) are (.*?) .*', line, re.M|re.I)\n",
    "# .*? means only one word match followed by \" \"\n",
    "if matchObj1:\n",
    "    print(\"matchObj.group() : \", matchObj1.group())\n",
    "    print(\"matchObj.group(1) : \", matchObj1.group(1))\n",
    "    print(\"matchObj.group(2) : \", matchObj1.group(2))\n",
    "else:\n",
    "    print(\"No match!!\")\n",
    "\n",
    "print()\n",
    "matchObj2 = re.match( r'(.*) are (.*) .*', line, re.M|re.I)\n",
    "# .* means any number of words match followed by \" \"\n",
    "if matchObj2:\n",
    "    print(\"matchObj.group() : \", matchObj2.group())\n",
    "    print(\"matchObj.group(1) : \", matchObj2.group(1))\n",
    "    print(\"matchObj.group(2) : \", matchObj2.group(2))\n",
    "else:\n",
    "    print(\"No match!!\")"
   ]
  },
  {
   "cell_type": "code",
   "execution_count": null,
   "metadata": {},
   "outputs": [],
   "source": []
  }
 ],
 "metadata": {
  "kernelspec": {
   "display_name": "base",
   "language": "python",
   "name": "python3"
  },
  "language_info": {
   "codemirror_mode": {
    "name": "ipython",
    "version": 3
   },
   "file_extension": ".py",
   "mimetype": "text/x-python",
   "name": "python",
   "nbconvert_exporter": "python",
   "pygments_lexer": "ipython3",
   "version": "3.9.13"
  }
 },
 "nbformat": 4,
 "nbformat_minor": 2
}
